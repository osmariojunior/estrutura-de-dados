{
  "nbformat": 4,
  "nbformat_minor": 0,
  "metadata": {
    "colab": {
      "name": "Deques.ipynb",
      "provenance": []
    },
    "kernelspec": {
      "name": "python3",
      "display_name": "Python 3"
    },
    "language_info": {
      "name": "python"
    }
  },
  "cells": [
    {
      "cell_type": "markdown",
      "source": [
        "# **Deques**"
      ],
      "metadata": {
        "id": "OE3OIeGVHUxz"
      }
    },
    {
      "cell_type": "code",
      "source": [
        "import numpy as np"
      ],
      "metadata": {
        "id": "8o-_p9ODGpgb"
      },
      "execution_count": null,
      "outputs": []
    },
    {
      "cell_type": "code",
      "execution_count": null,
      "metadata": {
        "id": "H4RD35M8BNjf"
      },
      "outputs": [],
      "source": [
        "class Deques:\n",
        "\n",
        "  def __init__(self, capacidade):\n",
        "    self.capacidade = capacidade\n",
        "    self.inicio = -1\n",
        "    self.final = 0\n",
        "    self.numero_elementos = 0\n",
        "    self.valores = np.empty(self.capacidade, dtype=int)\n",
        "\n",
        "  def _deque_cheio(self):\n",
        "    return (self.inicio == 0 and self.final == self.capacidade -1) or (self.inicio == self.final + 1)\n",
        "\n",
        "  def __deque_vazio(self):\n",
        "    return self.inicio == - 1\n",
        "\n",
        "  def insere_inicio(self, valor):\n",
        "    if self._deque_cheio():\n",
        "      print('O deque está cheio')\n",
        "      return\n",
        "    if self.inicio == -1:\n",
        "      self.inicio = 0\n",
        "      self.final = 0\n",
        "    elif self.inicio == 0:\n",
        "      self.inicio = self.capacidade - 1\n",
        "    else:\n",
        "      self.inicio -= 1\n",
        "    self.valores[self.inicio] = valor\n",
        "  \n",
        "  def insere_final(self, valor):\n",
        "    if self._deque_cheio():\n",
        "      print('O deque está cheio')\n",
        "      return\n",
        "    if self.inicio == -1:\n",
        "      self.inicio = 0\n",
        "      self.final = 0\n",
        "    elif self.final == self.capacidade -1:\n",
        "      self.final = 0\n",
        "    else:\n",
        "      self.final += 1\n",
        "    self.valores[self.final] = valor\n",
        "\n",
        "  def excluir_inicio(self):\n",
        "    if self.__deque_vazio():\n",
        "      print('O deque já está vazio')\n",
        "      return\n",
        "    if self.inicio == self.final:\n",
        "      self.inicio = -1\n",
        "      self.final = -1\n",
        "    else:\n",
        "      if self.inicio == self.capacidade - 1:\n",
        "        self.inicio = 0\n",
        "      else:\n",
        "        self.inicio += 1\n",
        "  def excluir_final(self):\n",
        "    if self.__deque_vazio():\n",
        "      print('O deque já está vazio')\n",
        "      return\n",
        "    if self.inicio == self.final:\n",
        "      self.inicio = -1\n",
        "      self.final = -1\n",
        "    elif self.inicio == 0:\n",
        "      self.final = self.capacidade - 1\n",
        "    else:\n",
        "      self.final -= 1\n",
        "  \n",
        "  def get_inicio(self):\n",
        "    if self.__deque_vazio():\n",
        "      print('O deque já está vazio')\n",
        "      return\n",
        "    return self.valores[self.inicio]\n",
        "\n",
        "  def get_final(self):\n",
        "    if self.__deque_vazio():\n",
        "      print('O deque já está vazio')\n",
        "      return\n",
        "    return self.valores[self.final]\n"
      ]
    },
    {
      "cell_type": "code",
      "source": [
        "deque = Deques(5)"
      ],
      "metadata": {
        "id": "1YI5WuMHNDZX"
      },
      "execution_count": null,
      "outputs": []
    },
    {
      "cell_type": "code",
      "source": [
        "deque.insere_final(5)"
      ],
      "metadata": {
        "id": "wiD-ffIONJbC"
      },
      "execution_count": null,
      "outputs": []
    },
    {
      "cell_type": "code",
      "source": [
        "deque.get_inicio(), deque.get_final()"
      ],
      "metadata": {
        "colab": {
          "base_uri": "https://localhost:8080/"
        },
        "id": "pfG3cJ4rNOSh",
        "outputId": "6c0532ce-9807-4cc3-f892-d094ef9a7c82"
      },
      "execution_count": null,
      "outputs": [
        {
          "output_type": "execute_result",
          "data": {
            "text/plain": [
              "(5, 5)"
            ]
          },
          "metadata": {},
          "execution_count": 11
        }
      ]
    },
    {
      "cell_type": "code",
      "source": [
        "deque.insere_final(10)"
      ],
      "metadata": {
        "id": "lCP6-MFXNXsl"
      },
      "execution_count": null,
      "outputs": []
    },
    {
      "cell_type": "code",
      "source": [
        "deque.get_inicio(), deque.get_final()"
      ],
      "metadata": {
        "colab": {
          "base_uri": "https://localhost:8080/"
        },
        "id": "9TO5zq2MNiWY",
        "outputId": "20491386-7370-4086-bfcf-8384f70b5c5b"
      },
      "execution_count": null,
      "outputs": [
        {
          "output_type": "execute_result",
          "data": {
            "text/plain": [
              "(5, 10)"
            ]
          },
          "metadata": {},
          "execution_count": 13
        }
      ]
    },
    {
      "cell_type": "code",
      "source": [
        "deque.insere_inicio(3)"
      ],
      "metadata": {
        "id": "cqjAL2mkNki_"
      },
      "execution_count": null,
      "outputs": []
    },
    {
      "cell_type": "code",
      "source": [
        "deque.get_inicio(), deque.get_final()"
      ],
      "metadata": {
        "colab": {
          "base_uri": "https://localhost:8080/"
        },
        "id": "aX8sut9qNqjX",
        "outputId": "95bf2bf4-7e11-4ba2-8c69-0d148af404b1"
      },
      "execution_count": null,
      "outputs": [
        {
          "output_type": "execute_result",
          "data": {
            "text/plain": [
              "(3, 10)"
            ]
          },
          "metadata": {},
          "execution_count": 15
        }
      ]
    },
    {
      "cell_type": "code",
      "source": [
        "deque.insere_inicio(2)\n",
        "deque.insere_final(11)"
      ],
      "metadata": {
        "id": "4pkFgDseN0kS"
      },
      "execution_count": null,
      "outputs": []
    },
    {
      "cell_type": "code",
      "source": [
        "deque.get_inicio(), deque.get_final()"
      ],
      "metadata": {
        "colab": {
          "base_uri": "https://localhost:8080/"
        },
        "id": "WAxh1RrmN85W",
        "outputId": "cd0f84a8-e3bd-4e05-fe08-8fb33aff25a0"
      },
      "execution_count": null,
      "outputs": [
        {
          "output_type": "execute_result",
          "data": {
            "text/plain": [
              "(2, 11)"
            ]
          },
          "metadata": {},
          "execution_count": 17
        }
      ]
    },
    {
      "cell_type": "code",
      "source": [
        "deque.valores"
      ],
      "metadata": {
        "colab": {
          "base_uri": "https://localhost:8080/"
        },
        "id": "fJBHzpvkN_hk",
        "outputId": "0d3a33af-da6f-4ee0-a026-df058e5431c7"
      },
      "execution_count": null,
      "outputs": [
        {
          "output_type": "execute_result",
          "data": {
            "text/plain": [
              "array([ 5, 10, 11,  2,  3])"
            ]
          },
          "metadata": {},
          "execution_count": 18
        }
      ]
    },
    {
      "cell_type": "code",
      "source": [
        "deque.excluir_inicio()\n",
        "deque.excluir_final()"
      ],
      "metadata": {
        "id": "YvJt112iODkL"
      },
      "execution_count": null,
      "outputs": []
    },
    {
      "cell_type": "code",
      "source": [
        "deque.get_inicio(), deque.get_final()"
      ],
      "metadata": {
        "id": "fFIdIUHAOLVm",
        "outputId": "747e3d9a-abed-403a-c304-b76e434a2503",
        "colab": {
          "base_uri": "https://localhost:8080/"
        }
      },
      "execution_count": null,
      "outputs": [
        {
          "output_type": "execute_result",
          "data": {
            "text/plain": [
              "(3, 10)"
            ]
          },
          "metadata": {},
          "execution_count": 20
        }
      ]
    }
  ]
}