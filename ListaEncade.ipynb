{
  "nbformat": 4,
  "nbformat_minor": 0,
  "metadata": {
    "colab": {
      "name": "ListaEncade.ipynb",
      "provenance": []
    },
    "kernelspec": {
      "name": "python3",
      "display_name": "Python 3"
    },
    "language_info": {
      "name": "python"
    }
  },
  "cells": [
    {
      "cell_type": "markdown",
      "metadata": {
        "id": "k9MKGXRIPqEp"
      },
      "source": [
        "#**Listas Encadeadas**"
      ]
    },
    {
      "cell_type": "code",
      "metadata": {
        "id": "Hg7_j5GyPoK2"
      },
      "source": [
        "import numpy as np"
      ],
      "execution_count": null,
      "outputs": []
    },
    {
      "cell_type": "code",
      "metadata": {
        "id": "kvri4CA8P_Fu"
      },
      "source": [
        "class No:\n",
        "  def __init__(self, valor):\n",
        "    self.valor = valor\n",
        "    self.proximo = None\n",
        "  def mostra_no(self):\n",
        "    print(self.valor)\n",
        "    "
      ],
      "execution_count": null,
      "outputs": []
    },
    {
      "cell_type": "code",
      "metadata": {
        "colab": {
          "base_uri": "https://localhost:8080/"
        },
        "id": "nh3LlUtTQp-Q",
        "outputId": "6b215223-965e-4ede-9838-9f3efedc8833"
      },
      "source": [
        "no1 = No(1)\n",
        "no1.mostra_no()"
      ],
      "execution_count": null,
      "outputs": [
        {
          "output_type": "stream",
          "name": "stdout",
          "text": [
            "1\n"
          ]
        }
      ]
    },
    {
      "cell_type": "code",
      "metadata": {
        "colab": {
          "base_uri": "https://localhost:8080/"
        },
        "id": "RvNHqFI6Q0cG",
        "outputId": "d65d596c-1e56-4f18-dd26-89653f701532"
      },
      "source": [
        "no2 =No(2)\n",
        "no2.mostra_no()"
      ],
      "execution_count": null,
      "outputs": [
        {
          "output_type": "stream",
          "name": "stdout",
          "text": [
            "2\n"
          ]
        }
      ]
    },
    {
      "cell_type": "code",
      "metadata": {
        "id": "UPnjFTnzRDe6"
      },
      "source": [
        "class ListaEncadeada:\n",
        "  def __init__(self):\n",
        "    self.primeiro = None\n",
        "\n",
        "  def insere_inicio(self, valor):\n",
        "    novo = No(valor)\n",
        "    novo.proximo = self.primeiro\n",
        "    self.primeiro = novo\n",
        "\n",
        "  def mostrar(self):\n",
        "    if self.primeiro == None:\n",
        "      print('A lista está vazia')\n",
        "      return None\n",
        "    atual = self.primeiro\n",
        "    while atual != None:\n",
        "      atual.mostra_no()\n",
        "      atual = atual.proximo\n",
        "\n",
        "  def pesquisa(self, valor):\n",
        "    if self.primeiro == None:\n",
        "      print('A lista está vazia')\n",
        "      return None\n",
        "    pequisa = ListaEncadeada()\n",
        "    if pesquisa != None:\n",
        "      print('Encontrado: ', pesquisa.valor)\n",
        "    else:\n",
        "      print('Não encontrado')\n",
        "    atual = self.primeiro\n",
        "    while atual.valor != valor:\n",
        "      if atual.proximo == None:\n",
        "        return None\n",
        "      else:\n",
        "        atual = atual.proximo\n",
        "    return atual\n",
        "\n",
        "  def excluir_inicio(self):\n",
        "    if self.primeiro == None:\n",
        "      print('A lista está vazia')\n",
        "      return None\n",
        "    temp = self.primeiro\n",
        "    self.primeiro = self.primeiro.proximo\n",
        "    return temp\n",
        "\n",
        "  def excluir_posicao(self, valor):\n",
        "    if self.primeiro == None:\n",
        "      print('A lista está vazia')\n",
        "      return None\n",
        "    atual = self.primeiro\n",
        "    anterior = self.primeiro\n",
        "    while atual.valor != valor:\n",
        "      if atual.proximo == None:\n",
        "        return None\n",
        "      else:\n",
        "        anterior = atual\n",
        "        atual = atual.proximo\n",
        "    if atual == self.primeiro:\n",
        "      self.primeiro = self.primeiro.proximo\n",
        "    else:\n",
        "      anterior.proximo = atual.proximo\n",
        "    return atual"
      ],
      "execution_count": null,
      "outputs": []
    },
    {
      "cell_type": "markdown",
      "metadata": {
        "id": "WT0UrtSnT6Lw"
      },
      "source": [
        "###Insere no início"
      ]
    },
    {
      "cell_type": "code",
      "metadata": {
        "id": "LlLIM1ZgUCLn"
      },
      "source": [
        "lista = ListaEncadeada()"
      ],
      "execution_count": null,
      "outputs": []
    },
    {
      "cell_type": "code",
      "metadata": {
        "id": "nMUDCRPgUHYN"
      },
      "source": [
        "lista.insere_inicio(1)"
      ],
      "execution_count": null,
      "outputs": []
    },
    {
      "cell_type": "code",
      "metadata": {
        "colab": {
          "base_uri": "https://localhost:8080/"
        },
        "id": "TcsA4qA2UVaT",
        "outputId": "eff77b63-688d-437f-a718-8b891d85fda3"
      },
      "source": [
        "lista.primeiro"
      ],
      "execution_count": null,
      "outputs": [
        {
          "output_type": "execute_result",
          "data": {
            "text/plain": [
              "<__main__.No at 0x7f5eb119ba90>"
            ]
          },
          "metadata": {},
          "execution_count": 31
        }
      ]
    },
    {
      "cell_type": "code",
      "metadata": {
        "colab": {
          "base_uri": "https://localhost:8080/"
        },
        "id": "NEsjkIacUOgf",
        "outputId": "3776616b-ac62-4213-d2da-168b268b0942"
      },
      "source": [
        "lista.mostrar()"
      ],
      "execution_count": null,
      "outputs": [
        {
          "output_type": "stream",
          "name": "stdout",
          "text": [
            "1\n"
          ]
        }
      ]
    },
    {
      "cell_type": "code",
      "metadata": {
        "colab": {
          "base_uri": "https://localhost:8080/"
        },
        "id": "uMqK4BgBUpDL",
        "outputId": "1e3b77ac-5bf7-439d-8f69-2d1e26c38ae2"
      },
      "source": [
        "lista.insere_inicio(1)\n",
        "lista.insere_inicio(2)\n",
        "lista.insere_inicio(3)\n",
        "lista.insere_inicio(4)\n",
        "lista.mostrar()"
      ],
      "execution_count": null,
      "outputs": [
        {
          "output_type": "stream",
          "name": "stdout",
          "text": [
            "4\n",
            "3\n",
            "2\n",
            "1\n",
            "1\n"
          ]
        }
      ]
    },
    {
      "cell_type": "markdown",
      "metadata": {
        "id": "Bv3T5vX3WqhI"
      },
      "source": [
        "###Excluir do início"
      ]
    },
    {
      "cell_type": "code",
      "metadata": {
        "id": "_0woBkNnWwGC"
      },
      "source": [
        "lista = ListaEncadeada()"
      ],
      "execution_count": null,
      "outputs": []
    },
    {
      "cell_type": "code",
      "metadata": {
        "colab": {
          "base_uri": "https://localhost:8080/"
        },
        "id": "QBG32wz0W8Q2",
        "outputId": "f94934e6-8322-4e1e-b3a2-1463958fa49d"
      },
      "source": [
        "lista.insere_inicio(1)\n",
        "lista.insere_inicio(2)\n",
        "lista.insere_inicio(3)\n",
        "lista.insere_inicio(4)\n",
        "lista.mostrar()"
      ],
      "execution_count": null,
      "outputs": [
        {
          "output_type": "stream",
          "name": "stdout",
          "text": [
            "4\n",
            "3\n",
            "2\n",
            "1\n"
          ]
        }
      ]
    },
    {
      "cell_type": "code",
      "metadata": {
        "id": "HRvn8lHYZJPB"
      },
      "source": [
        "lista.insere_inicio(1)"
      ],
      "execution_count": null,
      "outputs": []
    },
    {
      "cell_type": "code",
      "metadata": {
        "colab": {
          "base_uri": "https://localhost:8080/"
        },
        "id": "wPd0ifc9ZMv4",
        "outputId": "ebaf5e6e-2bd2-4927-e19c-d92a27b5d161"
      },
      "source": [
        "lista.excluir_inicio()"
      ],
      "execution_count": null,
      "outputs": [
        {
          "output_type": "execute_result",
          "data": {
            "text/plain": [
              "<__main__.No at 0x7f5eb1279c10>"
            ]
          },
          "metadata": {},
          "execution_count": 41
        }
      ]
    },
    {
      "cell_type": "code",
      "metadata": {
        "colab": {
          "base_uri": "https://localhost:8080/"
        },
        "id": "glgsYwCxXAY1",
        "outputId": "75efd6af-90ce-4dfc-bd82-c1cea6e2f238"
      },
      "source": [
        "lista.excluir_inicio()\n",
        "lista.mostrar()"
      ],
      "execution_count": null,
      "outputs": [
        {
          "output_type": "stream",
          "name": "stdout",
          "text": [
            "3\n",
            "2\n",
            "1\n"
          ]
        }
      ]
    },
    {
      "cell_type": "code",
      "metadata": {
        "colab": {
          "base_uri": "https://localhost:8080/"
        },
        "id": "wD9i-NH3Y1xY",
        "outputId": "223a580c-ec50-4be7-b664-3972311831dd"
      },
      "source": [
        "lista.excluir_inicio()\n",
        "lista.excluir_inicio()"
      ],
      "execution_count": null,
      "outputs": [
        {
          "output_type": "stream",
          "name": "stdout",
          "text": [
            "A lista está vazia\n",
            "A lista está vazia\n"
          ]
        }
      ]
    },
    {
      "cell_type": "markdown",
      "metadata": {
        "id": "zWH4K0iUayDR"
      },
      "source": [
        "###Pesquisa"
      ]
    },
    {
      "cell_type": "code",
      "metadata": {
        "colab": {
          "base_uri": "https://localhost:8080/"
        },
        "id": "eA3p4dmqa3bE",
        "outputId": "4c8189b5-318b-4d6c-c3ec-fae0a0c0aa66"
      },
      "source": [
        "lista.insere_inicio(1)\n",
        "lista.insere_inicio(2)\n",
        "lista.insere_inicio(3)\n",
        "lista.insere_inicio(4)\n",
        "lista.mostrar()"
      ],
      "execution_count": null,
      "outputs": [
        {
          "output_type": "stream",
          "name": "stdout",
          "text": [
            "4\n",
            "3\n",
            "2\n",
            "1\n",
            "4\n",
            "3\n",
            "2\n",
            "1\n"
          ]
        }
      ]
    },
    {
      "cell_type": "code",
      "metadata": {
        "colab": {
          "base_uri": "https://localhost:8080/"
        },
        "id": "DpMpJDbna83Q",
        "outputId": "16b50015-7119-4420-85b1-4e9cf34f403d"
      },
      "source": [
        "pesquisa = lista.pesquisa(3)"
      ],
      "execution_count": null,
      "outputs": [
        {
          "output_type": "stream",
          "name": "stdout",
          "text": [
            "Encontrado:  3\n"
          ]
        }
      ]
    },
    {
      "cell_type": "markdown",
      "metadata": {
        "id": "Ft7KfW6les7Z"
      },
      "source": [
        "###Excluir posição"
      ]
    },
    {
      "cell_type": "code",
      "metadata": {
        "colab": {
          "base_uri": "https://localhost:8080/"
        },
        "id": "IWQnicotexrr",
        "outputId": "9957d663-27e4-4e58-8779-70b5aaba636e"
      },
      "source": [
        "lista.insere_inicio(1)\n",
        "lista.insere_inicio(2)\n",
        "lista.insere_inicio(3)\n",
        "lista.insere_inicio(4)\n",
        "lista.insere_inicio(5)\n",
        "lista.mostrar()"
      ],
      "execution_count": null,
      "outputs": [
        {
          "output_type": "stream",
          "name": "stdout",
          "text": [
            "5\n",
            "4\n",
            "3\n",
            "2\n",
            "1\n"
          ]
        }
      ]
    },
    {
      "cell_type": "code",
      "metadata": {
        "colab": {
          "base_uri": "https://localhost:8080/"
        },
        "id": "otMxrjmOe7Nu",
        "outputId": "298f90a5-2bef-4e14-a220-4afaca218d06"
      },
      "source": [
        "lista.excluir_posicao(3)\n",
        "lista.mostrar()"
      ],
      "execution_count": null,
      "outputs": [
        {
          "output_type": "stream",
          "name": "stdout",
          "text": [
            "5\n",
            "4\n",
            "2\n",
            "1\n"
          ]
        }
      ]
    }
  ]
}